{
 "cells": [
  {
   "cell_type": "markdown",
   "metadata": {},
   "source": [
    "# XOR 게이트를 다층 퍼셉트론으로 구현\n",
    "- 다층 퍼셉트론의 구현\n",
    "- XOR 게이트 구현"
   ]
  },
  {
   "cell_type": "markdown",
   "metadata": {},
   "source": [
    "### a) Layer가 1개일 경우"
   ]
  },
  {
   "cell_type": "code",
   "execution_count": 1,
   "metadata": {
    "scrolled": false
   },
   "outputs": [
    {
     "name": "stdout",
     "output_type": "stream",
     "text": [
      "WARNING:tensorflow:From c:\\users\\neark\\pnu-ai-study\\env\\lib\\site-packages\\tensorflow\\python\\framework\\op_def_library.py:263: colocate_with (from tensorflow.python.framework.ops) is deprecated and will be removed in a future version.\n",
      "Instructions for updating:\n",
      "Colocations handled automatically by placer.\n",
      "0 0.8875433 [[0.7863567]\n",
      " [0.6628261]]\n",
      "1000 0.69314927 [[0.00566576]\n",
      " [0.00542594]]\n",
      "2000 0.6931472 [[0.00010905]\n",
      " [0.0001086 ]]\n",
      "3000 0.6931472 [[2.1300866e-06]\n",
      " [2.1307264e-06]]\n",
      "4000 0.6931472 [[1.3183484e-07]\n",
      " [1.3247467e-07]]\n",
      "5000 0.6931472 [[1.3183484e-07]\n",
      " [1.3247467e-07]]\n",
      "6000 0.6931472 [[1.3183484e-07]\n",
      " [1.3247467e-07]]\n",
      "7000 0.6931472 [[1.3183484e-07]\n",
      " [1.3247467e-07]]\n",
      "8000 0.6931472 [[1.3183484e-07]\n",
      " [1.3247467e-07]]\n",
      "9000 0.6931472 [[1.3183484e-07]\n",
      " [1.3247467e-07]]\n",
      "10000 0.6931472 [[1.3183484e-07]\n",
      " [1.3247467e-07]]\n",
      "\n",
      "Hypothesis:  [[0.5]\n",
      " [0.5]\n",
      " [0.5]\n",
      " [0.5]] \n",
      "Correct:  [[0.]\n",
      " [0.]\n",
      " [0.]\n",
      " [0.]] \n",
      "Accuracy:  0.5\n"
     ]
    }
   ],
   "source": [
    "import tensorflow as tf\n",
    "import numpy as np\n",
    "\n",
    "tf.set_random_seed(777)  # for reproducibility\n",
    "\n",
    "x_data = np.array([[0, 0], [0, 1], [1, 0], [1, 1]], dtype=np.float32)\n",
    "y_data = np.array([[0], [1], [1], [0]], dtype=np.float32)\n",
    "\n",
    "X = tf.placeholder(tf.float32, [None, 2])\n",
    "Y = tf.placeholder(tf.float32, [None, 1])\n",
    "\n",
    "W = tf.Variable(tf.random_normal([2, 1]), name=\"weight\")\n",
    "b = tf.Variable(tf.random_normal([1]), name=\"bias\")\n",
    "\n",
    "# Hypothesis using sigmoid: tf.div(1., 1. + tf.exp(tf.matmul(X, W)))\n",
    "hypothesis = tf.sigmoid(tf.matmul(X, W) + b)\n",
    "\n",
    "# cost/loss function\n",
    "cost = -tf.reduce_mean(Y * tf.log(hypothesis) + (1 - Y) * tf.log(1 - hypothesis))\n",
    "train = tf.train.GradientDescentOptimizer(learning_rate=0.1).minimize(cost)\n",
    "\n",
    "# Accuracy computation\n",
    "# True if hypothesis>0.5 else False\n",
    "predicted = tf.cast(hypothesis > 0.5, dtype=tf.float32)\n",
    "accuracy = tf.reduce_mean(tf.cast(tf.equal(predicted, Y), dtype=tf.float32))\n",
    "\n",
    "# Launch graph\n",
    "with tf.Session() as sess:\n",
    "    # Initialize TensorFlow variables\n",
    "    sess.run(tf.global_variables_initializer())\n",
    "\n",
    "    for step in range(10001):\n",
    "        _, cost_val, w_val = sess.run(\n",
    "                  [train, cost, W], feed_dict={X: x_data, Y: y_data}\n",
    "        )\n",
    "        if step % 1000 == 0:\n",
    "            print(step, cost_val, w_val)\n",
    "\n",
    "    # Accuracy report\n",
    "    h, c, a = sess.run(\n",
    "              [hypothesis, predicted, accuracy], feed_dict={X: x_data, Y: y_data}\n",
    "    )\n",
    "    print(\"\\nHypothesis: \", h, \"\\nCorrect: \", c, \"\\nAccuracy: \", a)"
   ]
  },
  {
   "cell_type": "markdown",
   "metadata": {},
   "source": [
    "### b) Layer가 2개일 경우"
   ]
  },
  {
   "cell_type": "code",
   "execution_count": 2,
   "metadata": {
    "scrolled": false
   },
   "outputs": [
    {
     "name": "stdout",
     "output_type": "stream",
     "text": [
      "0 1.3039297 [[ 2.1355143  -0.07822639]\n",
      " [ 0.04496152 -0.48487958]]\n",
      "1000 0.69078827 [[ 2.0760124  -0.5912471 ]\n",
      " [ 0.0452517  -0.81890225]]\n",
      "2000 0.6555872 [[ 2.072738   -1.6827208 ]\n",
      " [ 0.19714443 -1.6965866 ]]\n",
      "3000 0.47891203 [[ 2.054418  -3.6132252]\n",
      " [ 1.0434556 -3.448598 ]]\n",
      "4000 0.18406776 [[ 2.9047687 -4.8419094]\n",
      " [ 2.861582  -4.724784 ]]\n",
      "5000 0.07999065 [[ 3.6978915 -5.404752 ]\n",
      " [ 3.685845  -5.3384438]]\n",
      "6000 0.047585838 [[ 4.11793   -5.722457 ]\n",
      " [ 4.1097074 -5.675079 ]]\n",
      "7000 0.03317411 [[ 4.3850274 -5.934928 ]\n",
      " [ 4.3784266 -5.8971395]]\n",
      "8000 0.025243776 [[ 4.5761633 -6.091856 ]\n",
      " [ 4.5705247 -6.0598936]]\n",
      "9000 0.02028333 [[ 4.7231364 -6.2151327]\n",
      " [ 4.718153  -6.18711  ]]\n",
      "10000 0.0169083 [[ 4.8416247 -6.3160653]\n",
      " [ 4.8371224 -6.290908 ]]\n",
      "\n",
      "Hypothesis:  [[0.01368036]\n",
      " [0.98169047]\n",
      " [0.9817343 ]\n",
      " [0.01679076]] \n",
      "Correct:  [[0.]\n",
      " [1.]\n",
      " [1.]\n",
      " [0.]] \n",
      "Accuracy:  1.0\n"
     ]
    }
   ],
   "source": [
    "import tensorflow as tf\n",
    "import numpy as np\n",
    "\n",
    "tf.set_random_seed(777)  # for reproducibility\n",
    "\n",
    "x_data = np.array([[0, 0], [0, 1], [1, 0], [1, 1]], dtype=np.float32)\n",
    "y_data = np.array([[0], [1], [1], [0]], dtype=np.float32)\n",
    "\n",
    "X = tf.placeholder(tf.float32, [None, 2])\n",
    "Y = tf.placeholder(tf.float32, [None, 1])\n",
    "\n",
    "W = tf.Variable(tf.random_normal([2, 2]), name=\"weight\")\n",
    "b = tf.Variable(tf.random_normal([2]), name=\"bias\")\n",
    "_hypothesis = tf.sigmoid(tf.matmul(X, W) + b)\n",
    "\n",
    "W2 = tf.Variable(tf.random_normal([2, 1]), name=\"weight2\")\n",
    "b2 = tf.Variable(tf.random_normal([1]), name=\"bias2\")\n",
    "hypothesis = tf.sigmoid(tf.matmul(_hypothesis, W2) + b2)\n",
    "\n",
    "# cost/loss function\n",
    "cost = -tf.reduce_mean(Y * tf.log(hypothesis) + (1 - Y) * tf.log(1 - hypothesis))\n",
    "train = tf.train.GradientDescentOptimizer(learning_rate=0.1).minimize(cost)\n",
    "\n",
    "# Accuracy computation\n",
    "# True if hypothesis>0.5 else False\n",
    "predicted = tf.cast(hypothesis > 0.5, dtype=tf.float32)\n",
    "accuracy = tf.reduce_mean(tf.cast(tf.equal(predicted, Y), dtype=tf.float32))\n",
    "\n",
    "# Launch graph\n",
    "with tf.Session() as sess:\n",
    "    # Initialize TensorFlow variables\n",
    "    sess.run(tf.global_variables_initializer())\n",
    "\n",
    "    for step in range(10001):\n",
    "        _, cost_val, w_val = sess.run(\n",
    "                  [train, cost, W], feed_dict={X: x_data, Y: y_data}\n",
    "        )\n",
    "        if step % 1000 == 0:\n",
    "            print(step, cost_val, w_val)\n",
    "\n",
    "    # Accuracy report\n",
    "    h, c, a = sess.run(\n",
    "              [hypothesis, predicted, accuracy], feed_dict={X: x_data, Y: y_data}\n",
    "    )\n",
    "    print(\"\\nHypothesis: \", h, \"\\nCorrect: \", c, \"\\nAccuracy: \", a)"
   ]
  },
  {
   "cell_type": "markdown",
   "metadata": {},
   "source": [
    "### 1) 단층 퍼셉트론에서 XOR 게이트의 구현이 불가능한 이유는?"
   ]
  },
  {
   "cell_type": "markdown",
   "metadata": {},
   "source": [
    "- XOR 게이트 속성을 정확히 Linear하게 나눌수 없기 때문입니다."
   ]
  },
  {
   "cell_type": "markdown",
   "metadata": {},
   "source": [
    "### 2) 다층 퍼셉트론을 학습할 때, 학습률(learning rate)이 모델의 학습에 미치는 영향은?"
   ]
  },
  {
   "cell_type": "markdown",
   "metadata": {},
   "source": [
    "- learning rate이 너무 크면 cost는 최적의 값으로 수렴하지 못하고 발산해버리는 경우가 발생합니다.\n",
    "- learning rate이 너무 작은면 cost가 수렴하는 속도가 너무 느리고 local minimun에 빠질 확률이 증가합니다."
   ]
  },
  {
   "cell_type": "code",
   "execution_count": null,
   "metadata": {},
   "outputs": [],
   "source": []
  }
 ],
 "metadata": {
  "kernelspec": {
   "display_name": "Python 3",
   "language": "python",
   "name": "python3"
  },
  "language_info": {
   "codemirror_mode": {
    "name": "ipython",
    "version": 3
   },
   "file_extension": ".py",
   "mimetype": "text/x-python",
   "name": "python",
   "nbconvert_exporter": "python",
   "pygments_lexer": "ipython3",
   "version": "3.5.4"
  }
 },
 "nbformat": 4,
 "nbformat_minor": 2
}
