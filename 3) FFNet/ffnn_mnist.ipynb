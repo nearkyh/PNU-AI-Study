{
 "cells": [
  {
   "cell_type": "markdown",
   "metadata": {},
   "source": [
    "# 전방향 인공신경망의 이해"
   ]
  },
  {
   "cell_type": "code",
   "execution_count": 2,
   "metadata": {
    "scrolled": false
   },
   "outputs": [
    {
     "name": "stdout",
     "output_type": "stream",
     "text": [
      "Extracting MNIST_data/train-images-idx3-ubyte.gz\n",
      "Extracting MNIST_data/train-labels-idx1-ubyte.gz\n",
      "Extracting MNIST_data/t10k-images-idx3-ubyte.gz\n",
      "Extracting MNIST_data/t10k-labels-idx1-ubyte.gz\n",
      "0 번째 학습 데이터 정확도: 0.5\n",
      "500 번째 학습 데이터 정확도: 0.92\n",
      "1000 번째 학습 데이터 정확도: 0.94\n",
      "1500 번째 학습 데이터 정확도: 0.9\n",
      "2000 번째 학습 데이터 정확도: 0.93\n",
      "2500 번째 학습 데이터 정확도: 0.98\n",
      "3000 번째 학습 데이터 정확도: 0.94\n",
      "3500 번째 학습 데이터 정확도: 0.94\n",
      "4000 번째 학습 데이터 정확도: 0.91\n",
      "4500 번째 학습 데이터 정확도: 0.93\n",
      "5000 번째 학습 데이터 정확도: 0.95\n",
      "5500 번째 학습 데이터 정확도: 0.91\n",
      "6000 번째 학습 데이터 정확도: 0.94\n",
      "6500 번째 학습 데이터 정확도: 0.97\n",
      "7000 번째 학습 데이터 정확도: 0.93\n",
      "7500 번째 학습 데이터 정확도: 0.97\n",
      "8000 번째 학습 데이터 정확도: 0.9\n",
      "8500 번째 학습 데이터 정확도: 0.92\n",
      "9000 번째 학습 데이터 정확도: 0.95\n",
      "9500 번째 학습 데이터 정확도: 0.95\n",
      "0.9257\n"
     ]
    }
   ],
   "source": [
    "# -*- coding: utf-8 -*-\n",
    "\n",
    "# MNIST 데이터를 다운로드 한다.\n",
    "from tensorflow.examples.tutorials.mnist import input_data\n",
    "mnist = input_data.read_data_sets(\"MNIST_data/\", one_hot=True)\n",
    "\n",
    "# TensorFlow 라이브러리를 추가한다.\n",
    "import tensorflow as tf\n",
    "\n",
    "\n",
    "# 변수들을 설정한다.\n",
    "x = tf.placeholder(tf.float32, [None, 784])\n",
    "W = tf.Variable(tf.zeros([784, 10]))\n",
    "b = tf.Variable(tf.zeros([10]))\n",
    "y = tf.nn.softmax(tf.matmul(x, W) + b)\n",
    "\n",
    "# cross-entropy 모델을 설정한다.\n",
    "y_ = tf.placeholder(tf.float32, [None, 10])\n",
    "cross_entropy = tf.reduce_mean(-tf.reduce_sum(y_ * tf.log(y), reduction_indices=[1]))\n",
    "train_step = tf.train.GradientDescentOptimizer(0.5).minimize(cross_entropy)\n",
    "\n",
    "# 경사하강법으로 모델을 학습한다.\n",
    "init = tf.initialize_all_variables()\n",
    "sess = tf.Session()\n",
    "sess.run(init)\n",
    "\n",
    "for i in range(10000):\n",
    "  batch_xs, batch_ys = mnist.train.next_batch(100)\n",
    "  sess.run(train_step, feed_dict={x: batch_xs, y_: batch_ys})\n",
    "\n",
    "  if i % 500 == 0:\n",
    "    correct_prediction = tf.equal(tf.argmax(y, 1), tf.argmax(y_, 1))\n",
    "    accuracy = tf.reduce_mean(tf.cast(correct_prediction, tf.float32))\n",
    "    print(i, '번째 학습 데이터 정확도:', sess.run(accuracy, feed_dict={x: batch_xs, y_: batch_ys}))\n",
    "\n",
    "\n",
    "######## 밑부분의 코드는 수정하시마십시오 ##########\n",
    "# 학습된 모델이 얼마나 정확한지를 출력한다.\n",
    "correct_prediction = tf.equal(tf.argmax(y,1), tf.argmax(y_,1))\n",
    "accuracy = tf.reduce_mean(tf.cast(correct_prediction, tf.float32))\n",
    "print(sess.run(accuracy, feed_dict={x: mnist.test.images, y_: mnist.test.labels}))\n",
    "##################################################################################"
   ]
  },
  {
   "cell_type": "markdown",
   "metadata": {},
   "source": [
    "### 1) Overfitting이 일어나면 학습 결과에 어떤 영향을 미칠까?"
   ]
  },
  {
   "cell_type": "markdown",
   "metadata": {},
   "source": [
    "- 학습 데이터에서는 매우 높은 정확도를 보이지만 새로운 데이터에 대해서는 급격히 낮은 정확도를 보임"
   ]
  },
  {
   "cell_type": "markdown",
   "metadata": {},
   "source": [
    "### 2) Overfitting을 방지하려면 어떤 방법들이 있을까?"
   ]
  },
  {
   "cell_type": "markdown",
   "metadata": {},
   "source": [
    "- 네트워크 층에 Dropout을 적용하여 학습하는 동안 무작위로 층의 일부 가중치를 제외시켜 학습을 진행"
   ]
  },
  {
   "cell_type": "markdown",
   "metadata": {},
   "source": [
    "- Gradient를 불안정하게 할 수 있는 매우 큰 가중치의 업데이트를 방지하기 위한 방법으로 Clip Gradient를 사용"
   ]
  },
  {
   "cell_type": "markdown",
   "metadata": {},
   "source": [
    "- 가중치의 제곱에 비례하는 Cost를 추가하여 가중치들이 너무 큰 값을 갖지 못하도록 제한하기 위한 방법으로 L2 Regularization을 사용"
   ]
  },
  {
   "cell_type": "markdown",
   "metadata": {},
   "source": [
    "### 3) Optimizer를 다르게 써보거나, Learning Rate를 바꿔가면서 학습해보세요"
   ]
  },
  {
   "cell_type": "markdown",
   "metadata": {},
   "source": [
    "- AdamOptimizer 사용"
   ]
  },
  {
   "cell_type": "code",
   "execution_count": 3,
   "metadata": {},
   "outputs": [
    {
     "name": "stdout",
     "output_type": "stream",
     "text": [
      "Extracting MNIST_data/train-images-idx3-ubyte.gz\n",
      "Extracting MNIST_data/train-labels-idx1-ubyte.gz\n",
      "Extracting MNIST_data/t10k-images-idx3-ubyte.gz\n",
      "Extracting MNIST_data/t10k-labels-idx1-ubyte.gz\n",
      "0 번째 학습 데이터 정확도: 0.62\n",
      "500 번째 학습 데이터 정확도: 0.9\n",
      "1000 번째 학습 데이터 정확도: 0.92\n",
      "1500 번째 학습 데이터 정확도: 0.91\n",
      "2000 번째 학습 데이터 정확도: 0.91\n",
      "2500 번째 학습 데이터 정확도: 0.93\n",
      "3000 번째 학습 데이터 정확도: 0.92\n",
      "3500 번째 학습 데이터 정확도: 0.96\n",
      "4000 번째 학습 데이터 정확도: 0.97\n",
      "4500 번째 학습 데이터 정확도: 0.9\n",
      "5000 번째 학습 데이터 정확도: 0.94\n",
      "5500 번째 학습 데이터 정확도: 0.97\n",
      "6000 번째 학습 데이터 정확도: 0.97\n",
      "6500 번째 학습 데이터 정확도: 0.9\n",
      "7000 번째 학습 데이터 정확도: 0.94\n",
      "7500 번째 학습 데이터 정확도: 0.9\n",
      "8000 번째 학습 데이터 정확도: 0.92\n",
      "8500 번째 학습 데이터 정확도: 0.94\n",
      "9000 번째 학습 데이터 정확도: 0.95\n",
      "9500 번째 학습 데이터 정확도: 0.95\n",
      "0.9274\n"
     ]
    }
   ],
   "source": [
    "# -*- coding: utf-8 -*-\n",
    "\n",
    "# MNIST 데이터를 다운로드 한다.\n",
    "from tensorflow.examples.tutorials.mnist import input_data\n",
    "mnist = input_data.read_data_sets(\"MNIST_data/\", one_hot=True)\n",
    "\n",
    "# TensorFlow 라이브러리를 추가한다.\n",
    "import tensorflow as tf\n",
    "\n",
    "\n",
    "# 변수들을 설정한다.\n",
    "x = tf.placeholder(tf.float32, [None, 784])\n",
    "W = tf.Variable(tf.zeros([784, 10]))\n",
    "b = tf.Variable(tf.zeros([10]))\n",
    "y = tf.nn.softmax(tf.matmul(x, W) + b)\n",
    "\n",
    "# cross-entropy 모델을 설정한다.\n",
    "y_ = tf.placeholder(tf.float32, [None, 10])\n",
    "cross_entropy = tf.reduce_mean(-tf.reduce_sum(y_ * tf.log(y), reduction_indices=[1]))\n",
    "train_step = tf.train.AdamOptimizer().minimize(cross_entropy)\n",
    "\n",
    "# 경사하강법으로 모델을 학습한다.\n",
    "init = tf.global_variables_initializer()\n",
    "sess = tf.Session()\n",
    "sess.run(init)\n",
    "\n",
    "for i in range(10000):\n",
    "  batch_xs, batch_ys = mnist.train.next_batch(100)\n",
    "  sess.run(train_step, feed_dict={x: batch_xs, y_: batch_ys})\n",
    "\n",
    "  if i % 500 == 0:\n",
    "    correct_prediction = tf.equal(tf.argmax(y, 1), tf.argmax(y_, 1))\n",
    "    accuracy = tf.reduce_mean(tf.cast(correct_prediction, tf.float32))\n",
    "    print(i, '번째 학습 데이터 정확도:', sess.run(accuracy, feed_dict={x: batch_xs, y_: batch_ys}))\n",
    "\n",
    "\n",
    "######## 밑부분의 코드는 수정하시마십시오 ##########\n",
    "# 학습된 모델이 얼마나 정확한지를 출력한다.\n",
    "correct_prediction = tf.equal(tf.argmax(y,1), tf.argmax(y_,1))\n",
    "accuracy = tf.reduce_mean(tf.cast(correct_prediction, tf.float32))\n",
    "print(sess.run(accuracy, feed_dict={x: mnist.test.images, y_: mnist.test.labels}))\n",
    "##################################################################################"
   ]
  },
  {
   "cell_type": "markdown",
   "metadata": {},
   "source": [
    " "
   ]
  },
  {
   "cell_type": "markdown",
   "metadata": {},
   "source": [
    "- tf.train.exponential_decay를 사용하여 learning rate 변화에 따른 결과"
   ]
  },
  {
   "cell_type": "markdown",
   "metadata": {},
   "source": [
    "#### a) Learning Rate가 0.01일때"
   ]
  },
  {
   "cell_type": "code",
   "execution_count": 4,
   "metadata": {},
   "outputs": [
    {
     "name": "stdout",
     "output_type": "stream",
     "text": [
      "Extracting MNIST_data/train-images-idx3-ubyte.gz\n",
      "Extracting MNIST_data/train-labels-idx1-ubyte.gz\n",
      "Extracting MNIST_data/t10k-images-idx3-ubyte.gz\n",
      "Extracting MNIST_data/t10k-labels-idx1-ubyte.gz\n",
      "0 번째 학습 데이터 정확도: 0.31\n",
      "500 번째 학습 데이터 정확도: 0.78\n",
      "1000 번째 학습 데이터 정확도: 0.9\n",
      "1500 번째 학습 데이터 정확도: 0.89\n",
      "2000 번째 학습 데이터 정확도: 0.85\n",
      "2500 번째 학습 데이터 정확도: 0.89\n",
      "3000 번째 학습 데이터 정확도: 0.87\n",
      "3500 번째 학습 데이터 정확도: 0.88\n",
      "4000 번째 학습 데이터 정확도: 0.9\n",
      "4500 번째 학습 데이터 정확도: 0.9\n",
      "5000 번째 학습 데이터 정확도: 0.88\n",
      "5500 번째 학습 데이터 정확도: 0.88\n",
      "6000 번째 학습 데이터 정확도: 0.93\n",
      "6500 번째 학습 데이터 정확도: 0.84\n",
      "7000 번째 학습 데이터 정확도: 0.88\n",
      "7500 번째 학습 데이터 정확도: 0.95\n",
      "8000 번째 학습 데이터 정확도: 0.97\n",
      "8500 번째 학습 데이터 정확도: 0.87\n",
      "9000 번째 학습 데이터 정확도: 0.93\n",
      "9500 번째 학습 데이터 정확도: 0.94\n",
      "0.9101\n"
     ]
    }
   ],
   "source": [
    "# -*- coding: utf-8 -*-\n",
    "\n",
    "# MNIST 데이터를 다운로드 한다.\n",
    "from tensorflow.examples.tutorials.mnist import input_data\n",
    "mnist = input_data.read_data_sets(\"MNIST_data/\", one_hot=True)\n",
    "\n",
    "# TensorFlow 라이브러리를 추가한다.\n",
    "import tensorflow as tf\n",
    "\n",
    "\n",
    "# 변수들을 설정한다.\n",
    "x = tf.placeholder(tf.float32, [None, 784])\n",
    "W = tf.Variable(tf.zeros([784, 10]))\n",
    "b = tf.Variable(tf.zeros([10]))\n",
    "y = tf.nn.softmax(tf.matmul(x, W) + b)\n",
    "\n",
    "# cross-entropy 모델을 설정한다.\n",
    "y_ = tf.placeholder(tf.float32, [None, 10])\n",
    "cross_entropy = tf.reduce_mean(-tf.reduce_sum(y_ * tf.log(y), reduction_indices=[1]))\n",
    "\n",
    "# Learning Rate 조절을 통한 학습\n",
    "global_step = tf.Variable(0, trainable=False)\n",
    "starter_learning_rate = 0.01\n",
    "learning_rate = tf.train.exponential_decay(starter_learning_rate, global_step,\n",
    "                                           100000, 0.96, staircase=True)\n",
    "train_step = tf.train.GradientDescentOptimizer(learning_rate).minimize(loss=cross_entropy,\n",
    "                                                                       global_step=global_step)\n",
    "\n",
    "# 경사하강법으로 모델을 학습한다.\n",
    "init = tf.global_variables_initializer()\n",
    "sess = tf.Session()\n",
    "sess.run(init)\n",
    "\n",
    "for i in range(10000):\n",
    "  batch_xs, batch_ys = mnist.train.next_batch(100)\n",
    "  sess.run(train_step, feed_dict={x: batch_xs, y_: batch_ys})\n",
    "\n",
    "  if i % 500 == 0:\n",
    "    correct_prediction = tf.equal(tf.argmax(y, 1), tf.argmax(y_, 1))\n",
    "    accuracy = tf.reduce_mean(tf.cast(correct_prediction, tf.float32))\n",
    "    print(i, '번째 학습 데이터 정확도:', sess.run(accuracy, feed_dict={x: batch_xs, y_: batch_ys}))\n",
    "\n",
    "\n",
    "######## 밑부분의 코드는 수정하시마십시오 ##########\n",
    "# 학습된 모델이 얼마나 정확한지를 출력한다.\n",
    "correct_prediction = tf.equal(tf.argmax(y,1), tf.argmax(y_,1))\n",
    "accuracy = tf.reduce_mean(tf.cast(correct_prediction, tf.float32))\n",
    "print(sess.run(accuracy, feed_dict={x: mnist.test.images, y_: mnist.test.labels}))\n",
    "##################################################################################"
   ]
  },
  {
   "cell_type": "markdown",
   "metadata": {},
   "source": [
    "#### b) Learning Rate가 0.0001일때"
   ]
  },
  {
   "cell_type": "code",
   "execution_count": 5,
   "metadata": {},
   "outputs": [
    {
     "name": "stdout",
     "output_type": "stream",
     "text": [
      "Extracting MNIST_data/train-images-idx3-ubyte.gz\n",
      "Extracting MNIST_data/train-labels-idx1-ubyte.gz\n",
      "Extracting MNIST_data/t10k-images-idx3-ubyte.gz\n",
      "Extracting MNIST_data/t10k-labels-idx1-ubyte.gz\n",
      "0 번째 학습 데이터 정확도: 0.5\n",
      "500 번째 학습 데이터 정확도: 0.66\n",
      "1000 번째 학습 데이터 정확도: 0.75\n",
      "1500 번째 학습 데이터 정확도: 0.71\n",
      "2000 번째 학습 데이터 정확도: 0.68\n",
      "2500 번째 학습 데이터 정확도: 0.74\n",
      "3000 번째 학습 데이터 정확도: 0.73\n",
      "3500 번째 학습 데이터 정확도: 0.7\n",
      "4000 번째 학습 데이터 정확도: 0.68\n",
      "4500 번째 학습 데이터 정확도: 0.73\n",
      "5000 번째 학습 데이터 정확도: 0.78\n",
      "5500 번째 학습 데이터 정확도: 0.69\n",
      "6000 번째 학습 데이터 정확도: 0.73\n",
      "6500 번째 학습 데이터 정확도: 0.73\n",
      "7000 번째 학습 데이터 정확도: 0.77\n",
      "7500 번째 학습 데이터 정확도: 0.77\n",
      "8000 번째 학습 데이터 정확도: 0.76\n",
      "8500 번째 학습 데이터 정확도: 0.88\n",
      "9000 번째 학습 데이터 정확도: 0.8\n",
      "9500 번째 학습 데이터 정확도: 0.71\n",
      "0.791\n"
     ]
    }
   ],
   "source": [
    "# -*- coding: utf-8 -*-\n",
    "\n",
    "# MNIST 데이터를 다운로드 한다.\n",
    "from tensorflow.examples.tutorials.mnist import input_data\n",
    "mnist = input_data.read_data_sets(\"MNIST_data/\", one_hot=True)\n",
    "\n",
    "# TensorFlow 라이브러리를 추가한다.\n",
    "import tensorflow as tf\n",
    "\n",
    "\n",
    "# 변수들을 설정한다.\n",
    "x = tf.placeholder(tf.float32, [None, 784])\n",
    "W = tf.Variable(tf.zeros([784, 10]))\n",
    "b = tf.Variable(tf.zeros([10]))\n",
    "y = tf.nn.softmax(tf.matmul(x, W) + b)\n",
    "\n",
    "# cross-entropy 모델을 설정한다.\n",
    "y_ = tf.placeholder(tf.float32, [None, 10])\n",
    "cross_entropy = tf.reduce_mean(-tf.reduce_sum(y_ * tf.log(y), reduction_indices=[1]))\n",
    "\n",
    "# Learning Rate 조절을 통한 학습\n",
    "global_step = tf.Variable(0, trainable=False)\n",
    "starter_learning_rate = 0.0001\n",
    "learning_rate = tf.train.exponential_decay(starter_learning_rate, global_step,\n",
    "                                           100000, 0.96, staircase=True)\n",
    "train_step = tf.train.GradientDescentOptimizer(learning_rate).minimize(loss=cross_entropy,\n",
    "                                                                       global_step=global_step)\n",
    "\n",
    "# 경사하강법으로 모델을 학습한다.\n",
    "init = tf.global_variables_initializer()\n",
    "sess = tf.Session()\n",
    "sess.run(init)\n",
    "\n",
    "for i in range(10000):\n",
    "  batch_xs, batch_ys = mnist.train.next_batch(100)\n",
    "  sess.run(train_step, feed_dict={x: batch_xs, y_: batch_ys})\n",
    "\n",
    "  if i % 500 == 0:\n",
    "    correct_prediction = tf.equal(tf.argmax(y, 1), tf.argmax(y_, 1))\n",
    "    accuracy = tf.reduce_mean(tf.cast(correct_prediction, tf.float32))\n",
    "    print(i, '번째 학습 데이터 정확도:', sess.run(accuracy, feed_dict={x: batch_xs, y_: batch_ys}))\n",
    "\n",
    "\n",
    "######## 밑부분의 코드는 수정하시마십시오 ##########\n",
    "# 학습된 모델이 얼마나 정확한지를 출력한다.\n",
    "correct_prediction = tf.equal(tf.argmax(y,1), tf.argmax(y_,1))\n",
    "accuracy = tf.reduce_mean(tf.cast(correct_prediction, tf.float32))\n",
    "print(sess.run(accuracy, feed_dict={x: mnist.test.images, y_: mnist.test.labels}))\n",
    "##################################################################################"
   ]
  },
  {
   "cell_type": "markdown",
   "metadata": {},
   "source": [
    "#### c) Learning Rate가 0.8일때"
   ]
  },
  {
   "cell_type": "code",
   "execution_count": 6,
   "metadata": {},
   "outputs": [
    {
     "name": "stdout",
     "output_type": "stream",
     "text": [
      "Extracting MNIST_data/train-images-idx3-ubyte.gz\n",
      "Extracting MNIST_data/train-labels-idx1-ubyte.gz\n",
      "Extracting MNIST_data/t10k-images-idx3-ubyte.gz\n",
      "Extracting MNIST_data/t10k-labels-idx1-ubyte.gz\n",
      "0 번째 학습 데이터 정확도: 0.68\n",
      "500 번째 학습 데이터 정확도: 0.93\n",
      "1000 번째 학습 데이터 정확도: 0.9\n",
      "1500 번째 학습 데이터 정확도: 0.96\n",
      "2000 번째 학습 데이터 정확도: 0.95\n",
      "2500 번째 학습 데이터 정확도: 0.95\n",
      "3000 번째 학습 데이터 정확도: 0.97\n",
      "3500 번째 학습 데이터 정확도: 0.97\n",
      "4000 번째 학습 데이터 정확도: 0.91\n",
      "4500 번째 학습 데이터 정확도: 0.95\n",
      "5000 번째 학습 데이터 정확도: 0.96\n",
      "5500 번째 학습 데이터 정확도: 0.95\n",
      "6000 번째 학습 데이터 정확도: 0.97\n",
      "6500 번째 학습 데이터 정확도: 0.97\n",
      "7000 번째 학습 데이터 정확도: 0.9\n",
      "7500 번째 학습 데이터 정확도: 0.96\n",
      "8000 번째 학습 데이터 정확도: 0.97\n",
      "8500 번째 학습 데이터 정확도: 0.94\n",
      "9000 번째 학습 데이터 정확도: 0.95\n",
      "9500 번째 학습 데이터 정확도: 0.96\n",
      "0.9226\n"
     ]
    }
   ],
   "source": [
    "# -*- coding: utf-8 -*-\n",
    "\n",
    "# MNIST 데이터를 다운로드 한다.\n",
    "from tensorflow.examples.tutorials.mnist import input_data\n",
    "mnist = input_data.read_data_sets(\"MNIST_data/\", one_hot=True)\n",
    "\n",
    "# TensorFlow 라이브러리를 추가한다.\n",
    "import tensorflow as tf\n",
    "\n",
    "\n",
    "# 변수들을 설정한다.\n",
    "x = tf.placeholder(tf.float32, [None, 784])\n",
    "W = tf.Variable(tf.zeros([784, 10]))\n",
    "b = tf.Variable(tf.zeros([10]))\n",
    "y = tf.nn.softmax(tf.matmul(x, W) + b)\n",
    "\n",
    "# cross-entropy 모델을 설정한다.\n",
    "y_ = tf.placeholder(tf.float32, [None, 10])\n",
    "cross_entropy = tf.reduce_mean(-tf.reduce_sum(y_ * tf.log(y), reduction_indices=[1]))\n",
    "\n",
    "# Learning Rate 조절을 통한 학습\n",
    "global_step = tf.Variable(0, trainable=False)\n",
    "starter_learning_rate = 0.8\n",
    "learning_rate = tf.train.exponential_decay(starter_learning_rate, global_step,\n",
    "                                           100000, 0.96, staircase=True)\n",
    "train_step = tf.train.GradientDescentOptimizer(learning_rate).minimize(loss=cross_entropy,\n",
    "                                                                       global_step=global_step)\n",
    "\n",
    "# 경사하강법으로 모델을 학습한다.\n",
    "init = tf.global_variables_initializer()\n",
    "sess = tf.Session()\n",
    "sess.run(init)\n",
    "\n",
    "for i in range(10000):\n",
    "  batch_xs, batch_ys = mnist.train.next_batch(100)\n",
    "  sess.run(train_step, feed_dict={x: batch_xs, y_: batch_ys})\n",
    "\n",
    "  if i % 500 == 0:\n",
    "    correct_prediction = tf.equal(tf.argmax(y, 1), tf.argmax(y_, 1))\n",
    "    accuracy = tf.reduce_mean(tf.cast(correct_prediction, tf.float32))\n",
    "    print(i, '번째 학습 데이터 정확도:', sess.run(accuracy, feed_dict={x: batch_xs, y_: batch_ys}))\n",
    "\n",
    "\n",
    "######## 밑부분의 코드는 수정하시마십시오 ##########\n",
    "# 학습된 모델이 얼마나 정확한지를 출력한다.\n",
    "correct_prediction = tf.equal(tf.argmax(y,1), tf.argmax(y_,1))\n",
    "accuracy = tf.reduce_mean(tf.cast(correct_prediction, tf.float32))\n",
    "print(sess.run(accuracy, feed_dict={x: mnist.test.images, y_: mnist.test.labels}))\n",
    "##################################################################################"
   ]
  }
 ],
 "metadata": {
  "kernelspec": {
   "display_name": "Python 3",
   "language": "python",
   "name": "python3"
  },
  "language_info": {
   "codemirror_mode": {
    "name": "ipython",
    "version": 3
   },
   "file_extension": ".py",
   "mimetype": "text/x-python",
   "name": "python",
   "nbconvert_exporter": "python",
   "pygments_lexer": "ipython3",
   "version": "3.5.4"
  }
 },
 "nbformat": 4,
 "nbformat_minor": 2
}
